{
 "cells": [
  {
   "cell_type": "code",
   "execution_count": 3,
   "metadata": {},
   "outputs": [
    {
     "name": "stdout",
     "output_type": "stream",
     "text": [
      "X_train shape: (80, 25, 512)\n",
      "y_train shape: (80, 1)\n"
     ]
    }
   ],
   "source": [
    "import pandas as pd\n",
    "import numpy as np\n",
    "from sklearn.utils import shuffle\n",
    "from tensorflow.keras.models import Model\n",
    "from tensorflow.keras.layers import Input, LSTM, Dense\n",
    "\n",
    "# Load CSV files\n",
    "df_one = pd.read_csv(\"/home/harald_stabbetorp/Master/e-prop_master_nmbu/sound_fet/one_encoded_features.csv\")  # Shape: (num_samples, 12800)\n",
    "df_two = pd.read_csv(\"/home/harald_stabbetorp/Master/e-prop_master_nmbu/sound_fet/two_encoded_features.csv\")  # Shape: (num_samples, 12800)\n",
    "df_four = pd.read_csv(\"/home/harald_stabbetorp/Master/e-prop_master_nmbu/sound_fet/four_encoded_features.csv\")  # Shape: (num_samples, 12800)\n",
    "df_six = pd.read_csv(\"/home/harald_stabbetorp/Master/e-prop_master_nmbu/sound_fet/six_encoded_features.csv\")  # Shape: (num_samples, 12800)\n",
    "df_silence = pd.read_csv(\"/home/harald_stabbetorp/Master/e-prop_master_nmbu/sound_fet/zeros.csv\")  # Shape: (num_samples, 12800)\n",
    "\n",
    "# Reshape to (num_samples, 25, 512)\n",
    "X_one = df_one.values.reshape(-1, 25, 512)\n",
    "X_two = df_two.values.reshape(-1, 25, 512)\n",
    "X_four = df_four.values.reshape(-1, 25, 512)\n",
    "X_six = df_six.values.reshape(-1, 25, 512)\n",
    "X_silence = df_silence.values.reshape(-1, 25, 512)\n",
    "\n",
    "# Define labels: Silence=0, \"one\"=1, \"two\"=2\n",
    "y_silence = np.zeros((X_silence.shape[0], 1))\n",
    "y_one = np.ones((X_one.shape[0], 1))  # Label \"one\" as 1\n",
    "y_two = np.full((X_two.shape[0], 1), 2)  # Label \"two\" as 2\n",
    "y_four = np.full((X_four.shape[0], 1), 3)  # Label \"four\" as 3\n",
    "y_six = np.full((X_six.shape[0], 1), 4)  # Label \"six\" as 4\n",
    "\n",
    "# Concatenate sequences in alternating order\n",
    "X_combined = np.vstack((X_silence, X_one, X_silence, X_two, X_silence, X_four, X_silence, X_six))\n",
    "y_combined = np.vstack((y_silence, y_one, y_silence, y_two, y_silence, y_four, y_silence, y_six))\n",
    "\n",
    "# Repeat the sequence 10 times to make the dataset longer\n",
    "X_combined = np.tile(X_combined, (10, 1, 1))  # Repeat X_combined 10 times\n",
    "y_combined = np.tile(y_combined, (10, 1))     # Repeat y_combined 10 times\n",
    "\n",
    "# Shuffle the dataset (important)\n",
    "X_combined, y_combined = shuffle(X_combined, y_combined, random_state=42)\n",
    "\n",
    "# Split into training and testing (using the same data for both)\n",
    "X_train, X_test = X_combined, X_combined\n",
    "y_train, y_test = y_combined, y_combined\n",
    "\n",
    "print(\"X_train shape:\", X_train.shape)  # (total_samples * 10, 25, 512)\n",
    "print(\"y_train shape:\", y_train.shape)  # (total_samples * 10, 1)\n"
   ]
  },
  {
   "cell_type": "code",
   "execution_count": 4,
   "metadata": {},
   "outputs": [
    {
     "name": "stdout",
     "output_type": "stream",
     "text": [
      "Epoch 1/20\n",
      "\u001b[1m2/2\u001b[0m \u001b[32m━━━━━━━━━━━━━━━━━━━━\u001b[0m\u001b[37m\u001b[0m \u001b[1m3s\u001b[0m 897ms/step - accuracy: 0.5417 - loss: 1.6073 - val_accuracy: 1.0000 - val_loss: 1.3246\n",
      "Epoch 2/20\n",
      "\u001b[1m2/2\u001b[0m \u001b[32m━━━━━━━━━━━━━━━━━━━━\u001b[0m\u001b[37m\u001b[0m \u001b[1m0s\u001b[0m 217ms/step - accuracy: 1.0000 - loss: 1.3090 - val_accuracy: 1.0000 - val_loss: 0.9982\n",
      "Epoch 3/20\n",
      "\u001b[1m2/2\u001b[0m \u001b[32m━━━━━━━━━━━━━━━━━━━━\u001b[0m\u001b[37m\u001b[0m \u001b[1m0s\u001b[0m 237ms/step - accuracy: 1.0000 - loss: 1.1367 - val_accuracy: 1.0000 - val_loss: 0.8078\n",
      "Epoch 4/20\n",
      "\u001b[1m2/2\u001b[0m \u001b[32m━━━━━━━━━━━━━━━━━━━━\u001b[0m\u001b[37m\u001b[0m \u001b[1m0s\u001b[0m 284ms/step - accuracy: 1.0000 - loss: 0.9472 - val_accuracy: 1.0000 - val_loss: 0.6934\n",
      "Epoch 5/20\n",
      "\u001b[1m2/2\u001b[0m \u001b[32m━━━━━━━━━━━━━━━━━━━━\u001b[0m\u001b[37m\u001b[0m \u001b[1m0s\u001b[0m 239ms/step - accuracy: 1.0000 - loss: 0.8152 - val_accuracy: 1.0000 - val_loss: 0.6111\n",
      "Epoch 6/20\n",
      "\u001b[1m2/2\u001b[0m \u001b[32m━━━━━━━━━━━━━━━━━━━━\u001b[0m\u001b[37m\u001b[0m \u001b[1m0s\u001b[0m 234ms/step - accuracy: 1.0000 - loss: 0.8262 - val_accuracy: 1.0000 - val_loss: 0.5508\n",
      "Epoch 7/20\n",
      "\u001b[1m2/2\u001b[0m \u001b[32m━━━━━━━━━━━━━━━━━━━━\u001b[0m\u001b[37m\u001b[0m \u001b[1m0s\u001b[0m 237ms/step - accuracy: 1.0000 - loss: 0.7801 - val_accuracy: 1.0000 - val_loss: 0.4740\n",
      "Epoch 8/20\n",
      "\u001b[1m2/2\u001b[0m \u001b[32m━━━━━━━━━━━━━━━━━━━━\u001b[0m\u001b[37m\u001b[0m \u001b[1m0s\u001b[0m 237ms/step - accuracy: 1.0000 - loss: 0.6168 - val_accuracy: 1.0000 - val_loss: 0.2938\n",
      "Epoch 9/20\n",
      "\u001b[1m2/2\u001b[0m \u001b[32m━━━━━━━━━━━━━━━━━━━━\u001b[0m\u001b[37m\u001b[0m \u001b[1m0s\u001b[0m 249ms/step - accuracy: 1.0000 - loss: 0.4024 - val_accuracy: 1.0000 - val_loss: 0.0413\n",
      "Epoch 10/20\n",
      "\u001b[1m2/2\u001b[0m \u001b[32m━━━━━━━━━━━━━━━━━━━━\u001b[0m\u001b[37m\u001b[0m \u001b[1m0s\u001b[0m 219ms/step - accuracy: 1.0000 - loss: 0.0413 - val_accuracy: 1.0000 - val_loss: 0.0048\n",
      "Epoch 11/20\n",
      "\u001b[1m2/2\u001b[0m \u001b[32m━━━━━━━━━━━━━━━━━━━━\u001b[0m\u001b[37m\u001b[0m \u001b[1m0s\u001b[0m 222ms/step - accuracy: 1.0000 - loss: 0.0041 - val_accuracy: 1.0000 - val_loss: 0.0024\n",
      "Epoch 12/20\n",
      "\u001b[1m2/2\u001b[0m \u001b[32m━━━━━━━━━━━━━━━━━━━━\u001b[0m\u001b[37m\u001b[0m \u001b[1m0s\u001b[0m 278ms/step - accuracy: 1.0000 - loss: 0.0016 - val_accuracy: 1.0000 - val_loss: 0.0017\n",
      "Epoch 13/20\n",
      "\u001b[1m2/2\u001b[0m \u001b[32m━━━━━━━━━━━━━━━━━━━━\u001b[0m\u001b[37m\u001b[0m \u001b[1m0s\u001b[0m 263ms/step - accuracy: 1.0000 - loss: 9.2024e-04 - val_accuracy: 1.0000 - val_loss: 0.0013\n",
      "Epoch 14/20\n",
      "\u001b[1m2/2\u001b[0m \u001b[32m━━━━━━━━━━━━━━━━━━━━\u001b[0m\u001b[37m\u001b[0m \u001b[1m0s\u001b[0m 234ms/step - accuracy: 1.0000 - loss: 8.2973e-04 - val_accuracy: 1.0000 - val_loss: 0.0011\n",
      "Epoch 15/20\n",
      "\u001b[1m2/2\u001b[0m \u001b[32m━━━━━━━━━━━━━━━━━━━━\u001b[0m\u001b[37m\u001b[0m \u001b[1m0s\u001b[0m 220ms/step - accuracy: 1.0000 - loss: 6.3967e-04 - val_accuracy: 1.0000 - val_loss: 8.6675e-04\n",
      "Epoch 16/20\n",
      "\u001b[1m2/2\u001b[0m \u001b[32m━━━━━━━━━━━━━━━━━━━━\u001b[0m\u001b[37m\u001b[0m \u001b[1m0s\u001b[0m 239ms/step - accuracy: 1.0000 - loss: 5.1359e-04 - val_accuracy: 1.0000 - val_loss: 7.2132e-04\n",
      "Epoch 17/20\n",
      "\u001b[1m2/2\u001b[0m \u001b[32m━━━━━━━━━━━━━━━━━━━━\u001b[0m\u001b[37m\u001b[0m \u001b[1m0s\u001b[0m 251ms/step - accuracy: 1.0000 - loss: 4.1992e-04 - val_accuracy: 1.0000 - val_loss: 6.0731e-04\n",
      "Epoch 18/20\n",
      "\u001b[1m2/2\u001b[0m \u001b[32m━━━━━━━━━━━━━━━━━━━━\u001b[0m\u001b[37m\u001b[0m \u001b[1m0s\u001b[0m 268ms/step - accuracy: 1.0000 - loss: 3.6789e-04 - val_accuracy: 1.0000 - val_loss: 5.2110e-04\n",
      "Epoch 19/20\n",
      "\u001b[1m2/2\u001b[0m \u001b[32m━━━━━━━━━━━━━━━━━━━━\u001b[0m\u001b[37m\u001b[0m \u001b[1m0s\u001b[0m 256ms/step - accuracy: 1.0000 - loss: 3.1825e-04 - val_accuracy: 1.0000 - val_loss: 4.5518e-04\n",
      "Epoch 20/20\n",
      "\u001b[1m2/2\u001b[0m \u001b[32m━━━━━━━━━━━━━━━━━━━━\u001b[0m\u001b[37m\u001b[0m \u001b[1m0s\u001b[0m 253ms/step - accuracy: 1.0000 - loss: 2.6281e-04 - val_accuracy: 1.0000 - val_loss: 4.0479e-04\n"
     ]
    },
    {
     "data": {
      "text/plain": [
       "<keras.src.callbacks.history.History at 0x7f14fc42e7a0>"
      ]
     },
     "execution_count": 4,
     "metadata": {},
     "output_type": "execute_result"
    }
   ],
   "source": [
    "from tensorflow.keras.models import Model\n",
    "from tensorflow.keras.layers import Input, LSTM, Dense\n",
    "\n",
    "# Define model\n",
    "inputs = Input(shape=(25, 512))\n",
    "x = LSTM(256, return_sequences=False)(inputs)\n",
    "x = Dense(128, activation='relu')(x)\n",
    "x = Dense(5, activation='softmax')(x)  # 3 output classes: Silence, One, Two\n",
    "\n",
    "model = Model(inputs, x)\n",
    "model.compile(optimizer='adam', loss='sparse_categorical_crossentropy', metrics=['accuracy'])\n",
    "\n",
    "# Train the model\n",
    "model.fit(X_train, y_train, epochs=20, batch_size=32, validation_split=0.2)\n"
   ]
  },
  {
   "cell_type": "code",
   "execution_count": 5,
   "metadata": {},
   "outputs": [
    {
     "name": "stdout",
     "output_type": "stream",
     "text": [
      "\u001b[1m3/3\u001b[0m \u001b[32m━━━━━━━━━━━━━━━━━━━━\u001b[0m\u001b[37m\u001b[0m \u001b[1m0s\u001b[0m 50ms/step - accuracy: 1.0000 - loss: 2.6481e-04\n",
      "Test Accuracy: 1.0000\n",
      "\u001b[1m3/3\u001b[0m \u001b[32m━━━━━━━━━━━━━━━━━━━━\u001b[0m\u001b[37m\u001b[0m \u001b[1m0s\u001b[0m 129ms/step\n",
      "Predicted Classes: [0 0 0 4 0 0 0 0 0 0 1 1 2 2 0 3 1 3 4 0 1 0 3 4 0 0 0 0 0 4 0 4 4 0 3 2 0\n",
      " 1 0 3 0 2 1 0 0 1 0 0 0 0 0 0 4 2 1 0 0 0 2 3 1 2 0 2 2 4 3 3 3 1 0 3 0 4\n",
      " 0 0 0 4 0 2]\n",
      "True Classes: [0. 0. 0. 4. 0. 0. 0. 0. 0. 0. 1. 1. 2. 2. 0. 3. 1. 3. 4. 0. 1. 0. 3. 4.\n",
      " 0. 0. 0. 0. 0. 4. 0. 4. 4. 0. 3. 2. 0. 1. 0. 3. 0. 2. 1. 0. 0. 1. 0. 0.\n",
      " 0. 0. 0. 0. 4. 2. 1. 0. 0. 0. 2. 3. 1. 2. 0. 2. 2. 4. 3. 3. 3. 1. 0. 3.\n",
      " 0. 4. 0. 0. 0. 4. 0. 2.]\n"
     ]
    }
   ],
   "source": [
    "# Evaluate on the test set\n",
    "test_loss, test_acc = model.evaluate(X_test, y_test)\n",
    "print(f\"Test Accuracy: {test_acc:.4f}\")\n",
    "\n",
    "# Make predictions\n",
    "y_pred = model.predict(X_test)\n",
    "y_pred_classes = np.argmax(y_pred, axis=1)  # Convert softmax output to class index\n",
    "\n",
    "print(\"Predicted Classes:\", y_pred_classes)  # Show first 10 predictions\n",
    "print(\"True Classes:\", y_test.flatten())  # Show first 10 actual labels"
   ]
  }
 ],
 "metadata": {
  "kernelspec": {
   "display_name": "master",
   "language": "python",
   "name": "python3"
  },
  "language_info": {
   "codemirror_mode": {
    "name": "ipython",
    "version": 3
   },
   "file_extension": ".py",
   "mimetype": "text/x-python",
   "name": "python",
   "nbconvert_exporter": "python",
   "pygments_lexer": "ipython3",
   "version": "3.10.16"
  }
 },
 "nbformat": 4,
 "nbformat_minor": 2
}
