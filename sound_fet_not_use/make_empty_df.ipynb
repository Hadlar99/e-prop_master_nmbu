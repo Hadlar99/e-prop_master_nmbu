{
 "cells": [
  {
   "cell_type": "markdown",
   "metadata": {},
   "source": [
    "Make an empty dataframe for bperiods of silence"
   ]
  },
  {
   "cell_type": "code",
   "execution_count": 10,
   "metadata": {},
   "outputs": [
    {
     "name": "stdout",
     "output_type": "stream",
     "text": [
      "(25, 512)\n"
     ]
    }
   ],
   "source": [
    "import pandas as pd\n",
    "\n",
    "# Make a df with only zeros and no header. dimensions 512, 25\n",
    "df = pd.DataFrame(0, index=range(25), columns=range(513), dtype=int)\n",
    "df.drop(columns=[0], inplace=True)\n",
    "print(df.shape)"
   ]
  },
  {
   "cell_type": "code",
   "execution_count": 11,
   "metadata": {},
   "outputs": [],
   "source": [
    "#  Save the df to a csv file\n",
    "df.to_csv('zeros.csv', index=False)"
   ]
  },
  {
   "cell_type": "code",
   "execution_count": 5,
   "metadata": {},
   "outputs": [
    {
     "name": "stdout",
     "output_type": "stream",
     "text": [
      "[{'amplitude_times': array([0.        , 0.16666667, 0.33333334, 0.5       , 0.6666667 ,\n",
      "       0.8333333 , 1.        ], dtype=float32), 'amplitude_values': array([0., 1., 0., 1., 0., 0., 1.])}, {'amplitude_times': array([0.        , 0.16666667, 0.33333334, 0.5       , 0.6666667 ,\n",
      "       0.8333333 , 1.        ], dtype=float32), 'amplitude_values': array([0., 0., 1., 0., 0., 1., 0.])}]\n"
     ]
    }
   ],
   "source": [
    "import numpy as np\n",
    "\n",
    "def split_signal(target_signal, amplitude_times):\n",
    "    params_gen_rate_target = []\n",
    "    \n",
    "    for num in range(1, 3):  # Iterate over 1 and 2\n",
    "        num_values = np.where(target_signal == num, 1., 0.)  # Create a binary mask\n",
    "        params_gen_rate_target.append({\n",
    "            \"amplitude_times\": amplitude_times.astype(np.float32),\n",
    "            \"amplitude_values\": num_values,\n",
    "        })\n",
    "    \n",
    "    return params_gen_rate_target\n",
    "\n",
    "# Example usage:\n",
    "target_signal = np.array([0, 1, 2, 1, 0, 2, 1])\n",
    "amplitude_times = np.linspace(0, 1, len(target_signal))\n",
    "\n",
    "result = split_signal(target_signal, amplitude_times)\n",
    "\n",
    "print(result)"
   ]
  }
 ],
 "metadata": {
  "kernelspec": {
   "display_name": ".venv",
   "language": "python",
   "name": "python3"
  },
  "language_info": {
   "codemirror_mode": {
    "name": "ipython",
    "version": 3
   },
   "file_extension": ".py",
   "mimetype": "text/x-python",
   "name": "python",
   "nbconvert_exporter": "python",
   "pygments_lexer": "ipython3",
   "version": "3.10.12"
  }
 },
 "nbformat": 4,
 "nbformat_minor": 2
}
