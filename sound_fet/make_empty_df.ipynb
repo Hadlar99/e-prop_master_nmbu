{
 "cells": [
  {
   "cell_type": "markdown",
   "metadata": {},
   "source": [
    "Make an empty dataframe for bperiods of silence"
   ]
  },
  {
   "cell_type": "code",
   "execution_count": 5,
   "metadata": {},
   "outputs": [
    {
     "name": "stdout",
     "output_type": "stream",
     "text": [
      "Column  1   2   3   4   5   6   7   8   9   10  ...  17  18  19  20  21  22  \\\n",
      "Index                                           ...                           \n",
      "0        0   0   0   0   0   0   0   0   0   0  ...   0   0   0   0   0   0   \n",
      "1        0   0   0   0   0   0   0   0   0   0  ...   0   0   0   0   0   0   \n",
      "2        0   0   0   0   0   0   0   0   0   0  ...   0   0   0   0   0   0   \n",
      "3        0   0   0   0   0   0   0   0   0   0  ...   0   0   0   0   0   0   \n",
      "4        0   0   0   0   0   0   0   0   0   0  ...   0   0   0   0   0   0   \n",
      "...     ..  ..  ..  ..  ..  ..  ..  ..  ..  ..  ...  ..  ..  ..  ..  ..  ..   \n",
      "507      0   0   0   0   0   0   0   0   0   0  ...   0   0   0   0   0   0   \n",
      "508      0   0   0   0   0   0   0   0   0   0  ...   0   0   0   0   0   0   \n",
      "509      0   0   0   0   0   0   0   0   0   0  ...   0   0   0   0   0   0   \n",
      "510      0   0   0   0   0   0   0   0   0   0  ...   0   0   0   0   0   0   \n",
      "511      0   0   0   0   0   0   0   0   0   0  ...   0   0   0   0   0   0   \n",
      "\n",
      "Column  23  24  25  26  \n",
      "Index                   \n",
      "0        0   0   0   0  \n",
      "1        0   0   0   0  \n",
      "2        0   0   0   0  \n",
      "3        0   0   0   0  \n",
      "4        0   0   0   0  \n",
      "...     ..  ..  ..  ..  \n",
      "507      0   0   0   0  \n",
      "508      0   0   0   0  \n",
      "509      0   0   0   0  \n",
      "510      0   0   0   0  \n",
      "511      0   0   0   0  \n",
      "\n",
      "[512 rows x 26 columns]\n"
     ]
    }
   ],
   "source": [
    "import pandas as pd\n",
    "\n",
    "# Make a df with only zeros and no header. dimensions 512, 25\n",
    "df = pd.DataFrame(0, index=range(512), columns=range(27), dtype=int)\n",
    "df.drop(columns=[0], inplace=True)\n",
    "df.index.name = 'Index'\n",
    "df.columns.name = 'Column'\n",
    "print(df)"
   ]
  },
  {
   "cell_type": "code",
   "execution_count": 6,
   "metadata": {},
   "outputs": [],
   "source": [
    "#  Save the df to a csv file\n",
    "df.to_csv('zeros.csv', index=False)"
   ]
  },
  {
   "cell_type": "code",
   "execution_count": 5,
   "metadata": {},
   "outputs": [
    {
     "name": "stdout",
     "output_type": "stream",
     "text": [
      "[{'amplitude_times': array([0.        , 0.16666667, 0.33333334, 0.5       , 0.6666667 ,\n",
      "       0.8333333 , 1.        ], dtype=float32), 'amplitude_values': array([0., 1., 0., 1., 0., 0., 1.])}, {'amplitude_times': array([0.        , 0.16666667, 0.33333334, 0.5       , 0.6666667 ,\n",
      "       0.8333333 , 1.        ], dtype=float32), 'amplitude_values': array([0., 0., 1., 0., 0., 1., 0.])}]\n"
     ]
    }
   ],
   "source": [
    "import numpy as np\n",
    "\n",
    "def split_signal(target_signal, amplitude_times):\n",
    "    params_gen_rate_target = []\n",
    "    \n",
    "    for num in range(1, 3):  # Iterate over 1 and 2\n",
    "        num_values = np.where(target_signal == num, 1., 0.)  # Create a binary mask\n",
    "        params_gen_rate_target.append({\n",
    "            \"amplitude_times\": amplitude_times.astype(np.float32),\n",
    "            \"amplitude_values\": num_values,\n",
    "        })\n",
    "    \n",
    "    return params_gen_rate_target\n",
    "\n",
    "# Example usage:\n",
    "target_signal = np.array([0, 1, 2, 1, 0, 2, 1])\n",
    "amplitude_times = np.linspace(0, 1, len(target_signal))\n",
    "\n",
    "result = split_signal(target_signal, amplitude_times)\n",
    "\n",
    "print(result)"
   ]
  }
 ],
 "metadata": {
  "kernelspec": {
   "display_name": ".venv",
   "language": "python",
   "name": "python3"
  },
  "language_info": {
   "codemirror_mode": {
    "name": "ipython",
    "version": 3
   },
   "file_extension": ".py",
   "mimetype": "text/x-python",
   "name": "python",
   "nbconvert_exporter": "python",
   "pygments_lexer": "ipython3",
   "version": "3.10.12"
  }
 },
 "nbformat": 4,
 "nbformat_minor": 2
}
