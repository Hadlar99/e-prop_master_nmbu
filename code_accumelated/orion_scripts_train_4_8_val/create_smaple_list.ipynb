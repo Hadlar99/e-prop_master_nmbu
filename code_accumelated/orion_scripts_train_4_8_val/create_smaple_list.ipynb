{
 "cells": [
  {
   "cell_type": "markdown",
   "id": "b0bc161a",
   "metadata": {},
   "source": [
    "# Libraries"
   ]
  },
  {
   "cell_type": "code",
   "execution_count": null,
   "id": "41a240e3",
   "metadata": {},
   "outputs": [],
   "source": []
  },
  {
   "cell_type": "code",
   "execution_count": 5,
   "id": "8a600401",
   "metadata": {},
   "outputs": [
    {
     "name": "stdout",
     "output_type": "stream",
     "text": [
      "[40, 7, 1, 17, 15, 14, 8, 6, 34, 5, 37, 27, 2, 47, 49, 13, 44, 32, 36, 46, 42, 22, 20, 28, 30, 41, 48, 33, 18, 43, 0, 35, 24, 10, 38, 39, 3, 12, 21, 31, 16, 29, 9, 26, 45] [38, 16, 2, 46, 29, 34, 7, 24, 5, 35, 18, 23, 36, 12, 4, 47, 14, 39, 41, 27, 43, 30, 3, 37, 8, 33, 20, 11, 31, 22, 49, 6, 25, 44, 21, 17, 19, 28, 48, 45, 32, 40, 26, 15, 13] [49, 3, 14, 2, 20, 25, 17, 4, 13, 36, 45, 41, 31, 44, 29, 9, 16, 8, 15, 23, 43, 35, 32, 30, 18, 38, 40, 12, 11, 7, 42, 33, 37, 46, 1, 24, 28, 26, 10, 22, 6, 47, 34, 48, 19] [29, 33, 16, 35, 0, 43, 7, 34, 17, 21, 44, 18, 27, 10, 49, 45, 47, 32, 11, 48, 46, 3, 37, 20, 9, 26, 30, 19, 6, 4, 31, 5, 41, 23, 42, 25, 38, 39, 15, 1, 13, 24, 28, 22, 36]\n"
     ]
    }
   ],
   "source": [
    "import random\n",
    "\n",
    "# set the seed for reproducibility\n",
    "random.seed(42)\n",
    "\n",
    "# Create 5 lists with 45 unique values each between 0 and 49\n",
    "list1 = random.sample(range(50), 45)\n",
    "list2 = random.sample(range(50), 45)\n",
    "list3 = random.sample(range(50), 45)\n",
    "list4 = random.sample(range(50), 45)\n",
    "\n",
    "print(list1, list2, list3, list4)"
   ]
  },
  {
   "cell_type": "code",
   "execution_count": 6,
   "id": "0393c4c2",
   "metadata": {},
   "outputs": [
    {
     "name": "stdout",
     "output_type": "stream",
     "text": [
      "[4, 11, 19, 23, 25] [0, 1, 9, 10, 42] [0, 5, 39, 21, 27] [2, 8, 40, 12, 14]\n"
     ]
    }
   ],
   "source": [
    "# Full range of values\n",
    "full_range = set(range(50))\n",
    "\n",
    "# Calculate the values not chosen in each list\n",
    "new_list1 = list(full_range - set(list1))\n",
    "new_list2 = list(full_range - set(list2))\n",
    "new_list3 = list(full_range - set(list3))\n",
    "new_list4 = list(full_range - set(list4))\n",
    "\n",
    "print(new_list1, new_list2, new_list3, new_list4)"
   ]
  },
  {
   "cell_type": "code",
   "execution_count": 8,
   "id": "e80ee1c8",
   "metadata": {},
   "outputs": [],
   "source": [
    "import csv\n",
    "\n",
    "def write_lists_to_csv(filename, list_data, new_list_data):\n",
    "    \"\"\"\n",
    "    Writes the given lists and their corresponding new lists to a CSV file.\n",
    "\n",
    "    Args:\n",
    "        filename (str): The name of the CSV file to write to.\n",
    "        list_data (list): The original list of values.\n",
    "        new_list_data (list): The new list of values.\n",
    "    \"\"\"\n",
    "    with open(filename, mode='w', newline='') as file:\n",
    "        writer = csv.writer(file)\n",
    "        writer.writerow(['Original List', 'New List'])  # Header row\n",
    "        for original, new in zip(list_data, new_list_data + [None] * (len(list_data) - len(new_list_data))):\n",
    "            writer.writerow([original, new])\n"
   ]
  },
  {
   "cell_type": "code",
   "execution_count": 9,
   "id": "30f6e88b",
   "metadata": {},
   "outputs": [],
   "source": [
    "for i in range(1, 5):\n",
    "    list_data = eval(f'list{i}')\n",
    "    new_list_data = eval(f'new_list{i}')\n",
    "    write_lists_to_csv(f'list{i}.csv', list_data, new_list_data)"
   ]
  }
 ],
 "metadata": {
  "kernelspec": {
   "display_name": ".venv",
   "language": "python",
   "name": "python3"
  },
  "language_info": {
   "codemirror_mode": {
    "name": "ipython",
    "version": 3
   },
   "file_extension": ".py",
   "mimetype": "text/x-python",
   "name": "python",
   "nbconvert_exporter": "python",
   "pygments_lexer": "ipython3",
   "version": "3.12.3"
  }
 },
 "nbformat": 4,
 "nbformat_minor": 5
}
